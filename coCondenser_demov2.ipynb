{
 "cells": [
  {
   "cell_type": "code",
   "execution_count": 1,
   "metadata": {},
   "outputs": [],
   "source": [
    "query = 'Distilled water'\n",
    "passage1 = 'Distilled water is water that has been boiled into vapor and condensed back into liquid in a separate container. Impurities in the original water that do not boil below or near the boiling point of water remain in the original container. Thus, distilled water is a type of purified water.'\n",
    "passage2 = \"An electric discharge is the release and transmission of electricity in an applied electric field through a medium such as a gas.\""
   ]
  },
  {
   "cell_type": "code",
   "execution_count": 2,
   "metadata": {},
   "outputs": [
    {
     "name": "stderr",
     "output_type": "stream",
     "text": [
      "03/14/2022 16:12:34 - INFO - tevatron.modeling -   try loading tied weight\n",
      "03/14/2022 16:12:34 - INFO - tevatron.modeling -   loading model weight from Luyu/co-condenser-marco\n",
      "Some weights of the model checkpoint at Luyu/co-condenser-marco were not used when initializing BertModel: ['cls.predictions.decoder.weight', 'cls.predictions.transform.dense.weight', 'cls.predictions.transform.LayerNorm.weight', 'cls.predictions.transform.LayerNorm.bias', 'cls.predictions.transform.dense.bias', 'cls.predictions.decoder.bias', 'cls.predictions.bias']\n",
      "- This IS expected if you are initializing BertModel from the checkpoint of a model trained on another task or with another architecture (e.g. initializing a BertForSequenceClassification model from a BertForPreTraining model).\n",
      "- This IS NOT expected if you are initializing BertModel from the checkpoint of a model that you expect to be exactly identical (initializing a BertForSequenceClassification model from a BertForSequenceClassification model).\n",
      "Some weights of BertModel were not initialized from the model checkpoint at Luyu/co-condenser-marco and are newly initialized: ['bert.pooler.dense.weight', 'bert.pooler.dense.bias']\n",
      "You should probably TRAIN this model on a down-stream task to be able to use it for predictions and inference.\n",
      "100%|██████████| 1/1 [00:00<00:00, 10.32it/s]\n",
      "03/14/2022 16:12:42 - INFO - tevatron.modeling -   try loading tied weight\n",
      "03/14/2022 16:12:42 - INFO - tevatron.modeling -   loading model weight from Luyu/co-condenser-marco\n",
      "Some weights of the model checkpoint at Luyu/co-condenser-marco were not used when initializing BertModel: ['cls.predictions.decoder.weight', 'cls.predictions.transform.dense.weight', 'cls.predictions.transform.LayerNorm.weight', 'cls.predictions.transform.LayerNorm.bias', 'cls.predictions.transform.dense.bias', 'cls.predictions.decoder.bias', 'cls.predictions.bias']\n",
      "- This IS expected if you are initializing BertModel from the checkpoint of a model trained on another task or with another architecture (e.g. initializing a BertForSequenceClassification model from a BertForPreTraining model).\n",
      "- This IS NOT expected if you are initializing BertModel from the checkpoint of a model that you expect to be exactly identical (initializing a BertForSequenceClassification model from a BertForSequenceClassification model).\n",
      "Some weights of BertModel were not initialized from the model checkpoint at Luyu/co-condenser-marco and are newly initialized: ['bert.pooler.dense.weight', 'bert.pooler.dense.bias']\n",
      "You should probably TRAIN this model on a down-stream task to be able to use it for predictions and inference.\n",
      "100%|██████████| 1/1 [00:00<00:00,  2.32it/s]"
     ]
    },
    {
     "name": "stdout",
     "output_type": "stream",
     "text": [
      "(1, 768)\n",
      "(2, 768)\n"
     ]
    },
    {
     "name": "stderr",
     "output_type": "stream",
     "text": [
      "\n"
     ]
    }
   ],
   "source": [
    "from tevatron.driver.encode_code import encode\n",
    "query_embed = encode('Luyu/co-condenser-marco',{'text_id':[0], 'text':[query]}, True)\n",
    "passage_embed = encode('Luyu/co-condenser-marco',{'text_id':[0,1], 'text':[passage1, passage2]}, False)\n",
    "print(query_embed.shape)\n",
    "print(passage_embed.shape)"
   ]
  },
  {
   "cell_type": "code",
   "execution_count": 7,
   "metadata": {},
   "outputs": [
    {
     "data": {
      "text/plain": [
       "array([[0.950768  , 0.87579244]], dtype=float32)"
      ]
     },
     "execution_count": 7,
     "metadata": {},
     "output_type": "execute_result"
    }
   ],
   "source": [
    "from sklearn.metrics.pairwise import cosine_similarity\n",
    "# torch.nn.functional.cosine_similarity(query_embed[0], passage_embed[0], dim=1)\n",
    "cosine_similarity(query_embed, passage_embed)"
   ]
  },
  {
   "cell_type": "code",
   "execution_count": 4,
   "metadata": {},
   "outputs": [
    {
     "name": "stderr",
     "output_type": "stream",
     "text": [
      "03/11/2022 02:46:43 - INFO - __main__ -   Pattern match found 1 files; loading them into index.\n",
      "03/11/2022 02:46:43 - INFO - __main__ -   Index Search Start\n",
      "Traceback (most recent call last):\n",
      "  File \"C:\\Users\\Amanco\\anaconda3\\envs\\tevatron\\lib\\runpy.py\", line 194, in _run_module_as_main\n",
      "    return _run_code(code, main_globals, None,\n",
      "  File \"C:\\Users\\Amanco\\anaconda3\\envs\\tevatron\\lib\\runpy.py\", line 87, in _run_code\n",
      "    exec(code, run_globals)\n",
      "  File \"c:\\users\\amanco\\documents\\repositories\\tevatron\\src\\tevatron\\faiss_retriever\\__main__.py\", line 95, in <module>\n",
      "    main()\n",
      "  File \"c:\\users\\amanco\\documents\\repositories\\tevatron\\src\\tevatron\\faiss_retriever\\__main__.py\", line 85, in main\n",
      "    all_scores, psg_indices = search_queries(retriever, q_reps, look_up, args)\n",
      "  File \"c:\\users\\amanco\\documents\\repositories\\tevatron\\src\\tevatron\\faiss_retriever\\__main__.py\", line 25, in search_queries\n",
      "    all_scores, all_indices = retriever.search(q_reps, args.depth)\n",
      "  File \"c:\\users\\amanco\\documents\\repositories\\tevatron\\src\\tevatron\\faiss_retriever\\retriever.py\", line 18, in search\n",
      "    return self.index.search()\n",
      "TypeError: replacement_search() missing 2 required positional arguments: 'x' and 'k'\n"
     ]
    }
   ],
   "source": [
    "!python -m tevatron.faiss_retriever --query_reps test/test_query.pt --passage_reps test/test_passage.pt \\\n",
    "    --batch_size 0 --save_text --save_ranking_to test/run.test.rank.txt"
   ]
  },
  {
   "cell_type": "code",
   "execution_count": null,
   "metadata": {},
   "outputs": [],
   "source": []
  }
 ],
 "metadata": {
  "interpreter": {
   "hash": "9a5c1a973f821384a2b779af70b02c10bd883ef5f1aeefa4fa6e445a88522fa2"
  },
  "kernelspec": {
   "display_name": "Python 3.8.12 ('tevatron')",
   "language": "python",
   "name": "python3"
  },
  "language_info": {
   "codemirror_mode": {
    "name": "ipython",
    "version": 3
   },
   "file_extension": ".py",
   "mimetype": "text/x-python",
   "name": "python",
   "nbconvert_exporter": "python",
   "pygments_lexer": "ipython3",
   "version": "3.8.12"
  },
  "orig_nbformat": 4
 },
 "nbformat": 4,
 "nbformat_minor": 2
}
